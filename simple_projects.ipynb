{
  "nbformat": 4,
  "nbformat_minor": 0,
  "metadata": {
    "colab": {
      "provenance": [],
      "authorship_tag": "ABX9TyNrzvv480P1M38gDBdodYf4",
      "include_colab_link": true
    },
    "kernelspec": {
      "name": "python3",
      "display_name": "Python 3"
    },
    "language_info": {
      "name": "python"
    }
  },
  "cells": [
    {
      "cell_type": "markdown",
      "metadata": {
        "id": "view-in-github",
        "colab_type": "text"
      },
      "source": [
        "<a href=\"https://colab.research.google.com/github/akaiserg/simple-projects/blob/main/simple_projects.ipynb\" target=\"_parent\"><img src=\"https://colab.research.google.com/assets/colab-badge.svg\" alt=\"Open In Colab\"/></a>"
      ]
    },
    {
      "cell_type": "markdown",
      "source": [
        " ## **Mad libs**"
      ],
      "metadata": {
        "id": "j4xj4APCiCka"
      }
    },
    {
      "cell_type": "code",
      "execution_count": null,
      "metadata": {
        "colab": {
          "base_uri": "https://localhost:8080/"
        },
        "id": "BKAXiCiAgNvd",
        "outputId": "d70e0ae1-43c0-43fc-9f6e-af25f6f9423c"
      },
      "outputs": [
        {
          "output_type": "stream",
          "name": "stdout",
          "text": [
            "Enter a noun:peter\n",
            "Enter a adjective:fast\n",
            "Enter a noun:house\n",
            "Enter a verb:run\n",
            "Enter a verb:eat\n",
            "\n",
            "Once upon a time, there was a fast peter who loved to run all day.\n",
            "\n",
            "One day, house walked into the room and caught the peter in the act. \n",
            "\n",
            "house: \"What are you doing?\"\n",
            "peter: \"I'm just runing, what's the big deal?\"\n",
            "house: \"Well, it's not every day that you see a peter runing in the middle of the day.\"\n",
            "peter: \"I guess you're right. Maybe I should take a break.\"\n",
            "house: \"That's probably a good idea. Why don't we go eat instead?\"\n",
            "peter: \"Sure, that sounds like fun!\"\n",
            "\n",
            "And so, house and the peter went off to eat and had a great time. \n",
            "The end.\n",
            "\n"
          ]
        }
      ],
      "source": [
        "def get_input(word_type: str):\n",
        "  user_input: str = input(f\"Enter a {word_type}:\")\n",
        "  return user_input\n",
        "\n",
        "noun1 = get_input('noun')\n",
        "adjective1 = get_input('adjective')\n",
        "noun2 = get_input('noun')\n",
        "verb1 = get_input('verb')\n",
        "verb2 = get_input('verb')\n",
        "\n",
        "story = f\"\"\"\n",
        "Once upon a time, there was a {adjective1} {noun1} who loved to {verb1} all day.\n",
        "\n",
        "One day, {noun2} walked into the room and caught the {noun1} in the act.\n",
        "\n",
        "{noun2}: \"What are you doing?\"\n",
        "{noun1}: \"I'm just {verb1}ing, what's the big deal?\"\n",
        "{noun2}: \"Well, it's not every day that you see a {noun1} {verb1}ing in the middle of the day.\"\n",
        "{noun1}: \"I guess you're right. Maybe I should take a break.\"\n",
        "{noun2}: \"That's probably a good idea. Why don't we go {verb2} instead?\"\n",
        "{noun1}: \"Sure, that sounds like fun!\"\n",
        "\n",
        "And so, {noun2} and the {noun1} went off to {verb2} and had a great time.\n",
        "The end.\n",
        "\"\"\"\n",
        "\n",
        "print(story)"
      ]
    },
    {
      "cell_type": "markdown",
      "source": [
        " ## **Number Guessing**\n"
      ],
      "metadata": {
        "id": "UPFGyqi-MiEp"
      }
    },
    {
      "cell_type": "code",
      "source": [
        "from random import randint\n",
        "lower_num, higher_num = 1,10\n",
        "rand_num = randint(lower_num,higher_num)\n",
        "print(f'Guess the number in the range from {lower_num} to {higher_num}.')\n",
        "while True:\n",
        "  try:\n",
        "    user_guess: int = int(input('Guess: '))\n",
        "  except:\n",
        "    print('Please enter a valid number.')\n",
        "    continue\n",
        "  if user_guess > rand_num:\n",
        "    print('The number is lower')\n",
        "  elif user_guess < rand_num:\n",
        "    print('The number is higher')\n",
        "  else:\n",
        "    print('You guessed it!')\n",
        "    break\n",
        "\n"
      ],
      "metadata": {
        "colab": {
          "base_uri": "https://localhost:8080/"
        },
        "id": "XfKhiqf4MlRb",
        "outputId": "5ab55b45-189a-46c6-a5a2-0c46a43998f3"
      },
      "execution_count": null,
      "outputs": [
        {
          "output_type": "stream",
          "name": "stdout",
          "text": [
            "Guess the number in the range from 1 to 10.\n",
            "Guess: 3\n",
            "The number is higher\n",
            "Guess: 4\n",
            "The number is higher\n",
            "Guess: 5\n",
            "The number is higher\n",
            "Guess: 7\n",
            "The number is higher\n",
            "Guess: 8\n",
            "The number is higher\n",
            "Guess: 9\n",
            "The number is higher\n",
            "Guess: 10\n",
            "You guessed it!\n"
          ]
        }
      ]
    },
    {
      "cell_type": "markdown",
      "source": [
        " ## **Dice simulator**"
      ],
      "metadata": {
        "id": "dwwd5JNEKmhR"
      }
    },
    {
      "cell_type": "code",
      "source": [
        "from array import array\n",
        "from random import randint\n",
        "\n",
        "def get_roll_values(num_dices: int= 2)-> list[int]:\n",
        "  if num_dices <=0:\n",
        "    raise ValueError\n",
        "\n",
        "  values: list[int]= []\n",
        "  for i in range(num_dices):\n",
        "    values.append(randint(1,6))\n",
        "  return values\n",
        "\n",
        "while True:\n",
        "  try:\n",
        "    input_user: str = input(f\"How many dice would you like to roll? \")\n",
        "    if input_user.lower() == 'exit':\n",
        "      break\n",
        "    else:\n",
        "      print(get_roll_values(int(input_user)))\n",
        "  except ValueError:\n",
        "    print(f\"Please enter a valid number.\")"
      ],
      "metadata": {
        "colab": {
          "base_uri": "https://localhost:8080/"
        },
        "id": "fowooLREK7XE",
        "outputId": "e0b5edcb-5bff-4617-aa5b-903539194c13"
      },
      "execution_count": null,
      "outputs": [
        {
          "output_type": "stream",
          "name": "stdout",
          "text": [
            "How many dice would you like to roll? 3\n",
            "[6, 5, 1]\n",
            "How many dice would you like to roll? 3\n",
            "[6, 4, 3]\n",
            "How many dice would you like to roll? 3\n",
            "[6, 5, 4]\n",
            "How many dice would you like to roll? 3\n",
            "[1, 1, 5]\n"
          ]
        }
      ]
    },
    {
      "cell_type": "markdown",
      "source": [
        "## **Hangman**"
      ],
      "metadata": {
        "id": "x8gcAyfb41p2"
      }
    },
    {
      "cell_type": "code",
      "source": [
        "from random import choice\n",
        "\n",
        "def  get_word() -> str:\n",
        "  word = choice(['apple', 'secret', 'dog', 'orange', 'house', 'car', 'word', 'chair'])\n",
        "  return word\n",
        "\n",
        "def letter_found(input_letter: str, word: str) -> list[int]:\n",
        "  position: int = 0\n",
        "  positions: list[int] = []\n",
        "  for letter in word:\n",
        "    if letter == input_letter:\n",
        "      positions.append(position)\n",
        "    position = position + 1\n",
        "  return positions\n",
        "\n",
        "def tmp_word(guessed: list[str], word: str) -> str:\n",
        "  tmp_word: str =''\n",
        "  for letter in word:\n",
        "    if letter in guessed:\n",
        "      tmp_word = tmp_word+letter\n",
        "    else:\n",
        "      tmp_word = tmp_word+'*'\n",
        "  return tmp_word\n",
        "\n",
        "def main_game(tries=4) -> str:\n",
        "  hidden_word: str = get_word()\n",
        "  username: str = input(' What is your name?')\n",
        "  print(f'Welcome to Hangman, {username} ')\n",
        "  total_tries: int = tries\n",
        "  user_tries: int = tries\n",
        "  guessed: list[str] = []\n",
        "  while  True:\n",
        "    guess: str = input('Enter a letter: ')\n",
        "\n",
        "    if guess in guessed:\n",
        "      print(f'you already used this letter {guess}. Try again (tries remaining {user_tries})')\n",
        "    else:\n",
        "      positions: list[int] = letter_found(guess, hidden_word)\n",
        "      if len(positions) > 0:\n",
        "        guessed.append(guess)\n",
        "        print(f' You guessed it! {tmp_word(guessed,hidden_word)}. (tries remaining {user_tries})')\n",
        "      else:\n",
        "        print(f' Sorry, that was wrong.. (tries remaining {user_tries})')\n",
        "        user_tries = user_tries - 1\n",
        "      if user_tries == 0:\n",
        "        print(f'No more tries remaining. You lose.')\n",
        "        break\n",
        "\n",
        "\n",
        "main_game()"
      ],
      "metadata": {
        "colab": {
          "base_uri": "https://localhost:8080/"
        },
        "id": "z15dORlT45Ng",
        "outputId": "2c11e8b7-bd45-483b-f2b0-5d40fecf384f"
      },
      "execution_count": null,
      "outputs": [
        {
          "output_type": "stream",
          "name": "stdout",
          "text": [
            " What is your name?Andres\n",
            "Welcome to Hangman, Andres \n",
            "Enter a letter: a\n",
            " Sorry, that was wrong.. (tries remaining 4)\n",
            "Enter a letter: e\n",
            " You guessed it! ****e. (tries remaining 3)\n",
            "Enter a letter: a\n",
            " Sorry, that was wrong.. (tries remaining 3)\n",
            "Enter a letter: 3\n",
            " Sorry, that was wrong.. (tries remaining 2)\n",
            "Enter a letter: a\n",
            " Sorry, that was wrong.. (tries remaining 1)\n",
            "No more tries remaining. You lose.\n"
          ]
        }
      ]
    },
    {
      "cell_type": "markdown",
      "source": [
        "### ***Rock, Paper, Scissors***"
      ],
      "metadata": {
        "id": "2bMjZN8U3OO8"
      }
    },
    {
      "cell_type": "code",
      "source": [
        "import random\n",
        "import sys\n",
        "import os\n",
        "\n",
        "class RPS:\n",
        "  def __init__(self) -> None:\n",
        "    print('Welcome to RPS')\n",
        "    self.moves: dict = {'r': 'Rock', 'p': 'Paper', 's': 'scissor'}\n",
        "\n",
        "  def play_game(self) -> None:\n",
        "    os.system('cls')\n",
        "    self.user_move: str = input('Enter Rock(r), Paper(p) or Scissor(s) >> ')\n",
        "\n",
        "    if self.user_move == 'exit':\n",
        "      sys.exit()\n",
        "    if self.user_move not in self.moves:\n",
        "      print('wrong move. Has to be r,p or s')\n",
        "    else:\n",
        "      self.evalute_move()\n",
        "\n",
        "  def evalute_move(self):\n",
        "    self.internal_move = random.choice(list(self.moves))\n",
        "    if self.internal_move == self.user_move:\n",
        "      print(f'We got the same move :/. {self.moves[self.user_move]} ')\n",
        "    elif self.user_move == 'r' and self.internal_move == 's':\n",
        "      print(f'''You won :).  Your move were {self.moves[self.user_move]} and my move was {self.moves[self.internal_move]}''')\n",
        "    elif self.user_move == 's' and self.internal_move == 'p':\n",
        "      print(f'''You won :).  Your move were {self.moves[self.user_move]} and my move was {self.moves[self.internal_move]}''')\n",
        "    elif self.user_move == 'p' and self.internal_move == 'r':\n",
        "      print(f'''You won :).  Your move were {self.moves[self.user_move]} and my move was {self.moves[self.internal_move]}''')\n",
        "    else:\n",
        "      print(f'''I won :).  Your move were {self.moves[self.user_move]} and my move was {self.moves[self.internal_move]}''')\n",
        "\n",
        "    self.internal_move=''\n",
        "rps = RPS()\n",
        "\n",
        "while True:\n",
        "  rps.play_game()\n"
      ],
      "metadata": {
        "id": "uE8d7ouK3XYE",
        "colab": {
          "base_uri": "https://localhost:8080/",
          "height": 341
        },
        "outputId": "3f95310d-c83e-4997-e6ca-037ce85716f6"
      },
      "execution_count": null,
      "outputs": [
        {
          "name": "stdout",
          "output_type": "stream",
          "text": [
            "Welcome to RPS\n",
            "Enter Rock(r), Paper(p) or Scissor(s) >> s\n",
            "We got the same move :/. scissor \n",
            "Enter Rock(r), Paper(p) or Scissor(s) >> s\n",
            "You won :).  Your move were scissor and my move was Paper\n",
            "Enter Rock(r), Paper(p) or Scissor(s) >> s\n",
            "You won :).  Your move were scissor and my move was Paper\n",
            "Enter Rock(r), Paper(p) or Scissor(s) >> s\n",
            "I won :).  Your move were scissor and my move was Rock\n",
            "Enter Rock(r), Paper(p) or Scissor(s) >> s\n",
            "You won :).  Your move were scissor and my move was Paper\n",
            "Enter Rock(r), Paper(p) or Scissor(s) >> exit\n"
          ]
        },
        {
          "output_type": "error",
          "ename": "SystemExit",
          "evalue": "",
          "traceback": [
            "An exception has occurred, use %tb to see the full traceback.\n",
            "\u001b[0;31mSystemExit\u001b[0m\n"
          ]
        },
        {
          "output_type": "stream",
          "name": "stderr",
          "text": [
            "/usr/local/lib/python3.10/dist-packages/IPython/core/interactiveshell.py:3561: UserWarning: To exit: use 'exit', 'quit', or Ctrl-D.\n",
            "  warn(\"To exit: use 'exit', 'quit', or Ctrl-D.\", stacklevel=1)\n"
          ]
        }
      ]
    },
    {
      "cell_type": "code",
      "source": [
        "from types import new_class\n",
        "import secrets\n",
        "import string\n",
        "\n",
        "class PasswordGenerator:\n",
        "  def __init__(self) -> None:\n",
        "    None\n",
        "\n",
        "  def contains_upper(self, password: str) -> bool:\n",
        "    for char in password:\n",
        "      if char.isupper():\n",
        "        return True\n",
        "\n",
        "      return False\n",
        "\n",
        "  def contains_symbols(self, password: str) -> bool:\n",
        "    for char in password:\n",
        "      if char in string.punctuation:\n",
        "        return True\n",
        "\n",
        "      return False\n",
        "\n",
        "  def generate_password(self,upper: bool, symbol: bool, lenght: int) -> str:\n",
        "    values: str = string.ascii_lowercase + string.digits\n",
        "    if upper:\n",
        "      values += string.ascii_uppercase\n",
        "    if symbol:\n",
        "      values += string.punctuation\n",
        "    new_pass: str = ''\n",
        "    for _ in range(lenght):\n",
        "      #print(values[secrets.randbelow(len(values))])\n",
        "      new_pass += values[secrets.randbelow(len(values))]\n",
        "\n",
        "    return new_pass\n",
        "\n",
        "pass_generator = PasswordGenerator()\n",
        "\n",
        "pass1 = pass_generator.generate_password(True,True, 15)\n",
        "print (pass1)\n",
        "\n",
        "pass2 = pass_generator.generate_password(False,False, 15)\n",
        "print (pass2)\n",
        "\n",
        "pass3 = pass_generator.generate_password(True,False, 15)\n",
        "print (pass3)\n",
        "\n",
        "\n",
        "\n",
        "\n"
      ],
      "metadata": {
        "colab": {
          "base_uri": "https://localhost:8080/"
        },
        "id": "3CPDUBhP--Oj",
        "outputId": "a6a0b004-416e-4172-e8af-9d1a8948959b"
      },
      "execution_count": null,
      "outputs": [
        {
          "output_type": "stream",
          "name": "stdout",
          "text": [
            "J-s}+:>'x<JK8}V\n",
            "68n027f7hdin8na\n",
            "QxxZw4qzEUnsJwl\n"
          ]
        }
      ]
    },
    {
      "cell_type": "markdown",
      "source": [
        "## **QR code generator**"
      ],
      "metadata": {
        "id": "lDwiU4zRr1WD"
      }
    },
    {
      "cell_type": "code",
      "source": [
        "! pip install qrcode Pillow"
      ],
      "metadata": {
        "colab": {
          "base_uri": "https://localhost:8080/"
        },
        "id": "jJFpWlINr6-t",
        "outputId": "454e0821-ab31-483d-f4fe-1ea88822fd47"
      },
      "execution_count": null,
      "outputs": [
        {
          "output_type": "stream",
          "name": "stdout",
          "text": [
            "Requirement already satisfied: qrcode in /usr/local/lib/python3.10/dist-packages (7.4.2)\n",
            "Requirement already satisfied: Pillow in /usr/local/lib/python3.10/dist-packages (10.4.0)\n",
            "Requirement already satisfied: typing-extensions in /usr/local/lib/python3.10/dist-packages (from qrcode) (4.12.2)\n",
            "Requirement already satisfied: pypng in /usr/local/lib/python3.10/dist-packages (from qrcode) (0.20220715.0)\n"
          ]
        }
      ]
    },
    {
      "cell_type": "code",
      "source": [
        "import qrcode\n",
        "\n",
        "class MyQr:\n",
        "  def __init__(self,size:int, padding:int):\n",
        "    self.qr = qrcode.QRCode(box_size=size,border=padding)\n",
        "\n",
        "  def create(self,file_name:str,fg:str, bg:str):\n",
        "    user_input = input('Enter Text:')\n",
        "    try:\n",
        "      qr_image = self.qr.make_image(fill_color=fg, back_color=bg)\n",
        "      qr_image.save(file_name)\n",
        "      print(f'Successfully created {file_name}!')\n",
        "    except Exception as e:\n",
        "      print(f'Error: {e}')\n",
        "\n",
        "def main():\n",
        "  my_qr = MyQr(size=30,padding=2)\n",
        "  my_qr.create(file_name='sample.png', fg='black', bg='white')\n",
        "\n",
        "\n",
        "main()"
      ],
      "metadata": {
        "colab": {
          "base_uri": "https://localhost:8080/"
        },
        "id": "zndpQgEgs3Pd",
        "outputId": "abe240bc-c31e-430e-cfa7-8a548daf5342"
      },
      "execution_count": null,
      "outputs": [
        {
          "output_type": "stream",
          "name": "stdout",
          "text": [
            "Enter Text:My link\n",
            "Successfully created sample.png!\n"
          ]
        }
      ]
    },
    {
      "cell_type": "markdown",
      "source": [
        "## **Website chequer"
      ],
      "metadata": {
        "id": "557OuPlLw9_y"
      }
    },
    {
      "cell_type": "markdown",
      "source": [],
      "metadata": {
        "id": "P5jQbmjHrOBK"
      }
    },
    {
      "cell_type": "code",
      "source": [
        "! pip install requests fake_useragent"
      ],
      "metadata": {
        "colab": {
          "base_uri": "https://localhost:8080/"
        },
        "id": "tfMB9WnrxS3P",
        "outputId": "29b86bd9-54a8-41ec-c0cc-872a8db505ad"
      },
      "execution_count": null,
      "outputs": [
        {
          "output_type": "stream",
          "name": "stdout",
          "text": [
            "Requirement already satisfied: requests in /usr/local/lib/python3.10/dist-packages (2.32.3)\n",
            "Collecting fake_useragent\n",
            "  Downloading fake_useragent-1.5.1-py3-none-any.whl.metadata (15 kB)\n",
            "Requirement already satisfied: charset-normalizer<4,>=2 in /usr/local/lib/python3.10/dist-packages (from requests) (3.3.2)\n",
            "Requirement already satisfied: idna<4,>=2.5 in /usr/local/lib/python3.10/dist-packages (from requests) (3.10)\n",
            "Requirement already satisfied: urllib3<3,>=1.21.1 in /usr/local/lib/python3.10/dist-packages (from requests) (2.2.3)\n",
            "Requirement already satisfied: certifi>=2017.4.17 in /usr/local/lib/python3.10/dist-packages (from requests) (2024.8.30)\n",
            "Downloading fake_useragent-1.5.1-py3-none-any.whl (17 kB)\n",
            "Installing collected packages: fake_useragent\n",
            "Successfully installed fake_useragent-1.5.1\n"
          ]
        }
      ]
    },
    {
      "cell_type": "code",
      "source": [
        "import requests\n",
        "from fake_useragent import UserAgent\n",
        "from http import HTTPStatus\n",
        "\n",
        "def website_list():\n",
        "  websites = ['https://www.google.com/','https://www.w3schools.com/','https://www.maconline.com/']\n",
        "  return websites\n",
        "\n",
        "def get_user_agent() -> str:\n",
        "  ua = UserAgent()\n",
        "  return ua.chrome\n",
        "\n",
        "\n",
        "def get_status_description(status_code:int) -> str:\n",
        "  #print (status_code)\n",
        "  for status in HTTPStatus:\n",
        "    #print('->',status.value)\n",
        "    if status.value == status_code:\n",
        "      description:str= f'({status.value} {status.name} {status.description})'\n",
        "      return description\n",
        "  return 'Unknown status code'\n",
        "\n",
        "def check_website(website:str, useragent:str):\n",
        "  try:\n",
        "    code:int = requests.get(website, headers={'User-Agent':useragent}).status_code\n",
        "    print(website, get_status_description(code))\n",
        "  except Exception:\n",
        "    print(f'could not get info from website: {website}')\n",
        "\n",
        "\n",
        "\n",
        "def main():\n",
        "  ua:str = get_user_agent()\n",
        "  for site in website_list():\n",
        "    check_website(site,ua)\n",
        "\n",
        "main()\n"
      ],
      "metadata": {
        "colab": {
          "base_uri": "https://localhost:8080/"
        },
        "id": "bCFX5th60HeS",
        "outputId": "83ec0174-cf60-40a9-fec0-1731b3339806"
      },
      "execution_count": null,
      "outputs": [
        {
          "output_type": "stream",
          "name": "stdout",
          "text": [
            "https://www.google.com/ (200 OK Request fulfilled, document follows)\n",
            "https://www.w3schools.com/ (200 OK Request fulfilled, document follows)\n",
            "https://www.maconline.com/ (200 OK Request fulfilled, document follows)\n"
          ]
        }
      ]
    },
    {
      "cell_type": "markdown",
      "source": [
        "## **Password Checker**\n",
        "\n",
        "https://github.com/danielmiessler/SecLists/blob/master/Passwords/Common-Credentials/10-million-password-list-top-100000.txt\n"
      ],
      "metadata": {
        "id": "JFZNhBQPrRLN"
      }
    },
    {
      "cell_type": "code",
      "source": [
        "def password_list() -> list[str]:\n",
        "  passwords: list[str] = [\n",
        "    '123456',\n",
        "    'password',\n",
        "    '12345678',\n",
        "    'qwerty',\n",
        "    '123456789',\n",
        "    '12345',\n",
        "    '1234',\n",
        "    '}',\n",
        "    '1234567',\n",
        "    'dragon',\n",
        "    '123123',\n",
        "    'baseball',\n",
        "    'abc123',\n",
        "    'football',\n",
        "    'monkey',\n",
        "    'letmein',\n",
        "    '696969',\n",
        "    'shadow'\n",
        "  ]\n",
        "  return passwords\n",
        "\n",
        "def check_password(user_password: str) -> str:\n",
        "  for password in password_list():\n",
        "    if password == user_password.lower():\n",
        "      return 'Weak password :('\n",
        "  return 'Strong password :)'\n",
        "\n",
        "def main():\n",
        "  password: str = ''\n",
        "  while True:\n",
        "    password = input('Enter a password: ')\n",
        "    if len(password.strip()) > 0:\n",
        "      message: str = check_password(password)\n",
        "      print(message)\n",
        "      break\n",
        "    else:\n",
        "      print('Enter a correct type of password.')\n",
        "\n",
        "main()\n",
        "\n",
        "\n",
        "\n"
      ],
      "metadata": {
        "colab": {
          "base_uri": "https://localhost:8080/"
        },
        "id": "u2dQWeICrYEY",
        "outputId": "921b46cb-a874-4bb4-d700-f333b70223c0"
      },
      "execution_count": null,
      "outputs": [
        {
          "output_type": "stream",
          "name": "stdout",
          "text": [
            "Enter a password: 32\n",
            "Strong password :)\n"
          ]
        }
      ]
    },
    {
      "cell_type": "markdown",
      "source": [
        "## **Brute Force**"
      ],
      "metadata": {
        "id": "l1VBxifAwRsF"
      }
    },
    {
      "cell_type": "code",
      "source": [
        "import itertools\n",
        "import string\n",
        "import time\n",
        "\n",
        "\n",
        "def password_list() -> list[str]:\n",
        "  passwords: list[str] = [\n",
        "    '123456',\n",
        "    'password',\n",
        "    '12345678',\n",
        "    'qwerty',\n",
        "    '123456789',\n",
        "    '12345',\n",
        "    '1234',\n",
        "    '}',\n",
        "    '1234567',\n",
        "    'dragon',\n",
        "    '123123',\n",
        "    'baseball',\n",
        "    'abc123',\n",
        "    'football',\n",
        "    'monkey',\n",
        "    'letmein',\n",
        "    '696969',\n",
        "    'shadow'\n",
        "  ]\n",
        "  return passwords\n",
        "\n",
        "\n",
        "def common_guess(user_password:str)-> str | None:\n",
        "  for password in password_list():\n",
        "    if password == user_password.lower():\n",
        "      return f'the password {user_pasword} is a common password'\n",
        "  return None\n",
        "\n",
        "def brute_force(user_password:str, length:int, digits:bool=False,symbols:bool=False) -> str | None:\n",
        "  chars:  str = string.ascii_lowercase\n",
        "  if digits:\n",
        "    chars +=string.digits\n",
        "  if symbols:\n",
        "    chars +=string.punctuation\n",
        "  attemps: int = 0\n",
        "  for guess in itertools.product(chars, repeat=length):\n",
        "    attemps +=1\n",
        "    guess:str = ''.join(guess)\n",
        "    if user_password == guess:\n",
        "      return f'the password {user_password} was cracked in {attemps} guesses'\n",
        "    else:\n",
        "      print(guess, attemps)\n",
        "\n",
        "def main_brute_force():\n",
        "  print('searching.....')\n",
        "  password:str='abc'\n",
        "  start_time:float=time.perf_counter()\n",
        "  if found_common := common_guess(password):\n",
        "    print(found_common)\n",
        "  else:\n",
        "    if found_brute := brute_force(password,length=3,digits=False,symbols=False):\n",
        "      print(found_brute)\n",
        "    else:\n",
        "      print('There was no match....')\n",
        "  end_time:float=time.perf_counter()\n",
        "  print(round(start_time-end_time,2),'s')\n",
        "\n",
        "\n",
        "main_brute_force()"
      ],
      "metadata": {
        "colab": {
          "base_uri": "https://localhost:8080/"
        },
        "id": "0ofw3XnJwWfK",
        "outputId": "2a560e2e-dff4-4e65-98f1-9fb0be22b469"
      },
      "execution_count": null,
      "outputs": [
        {
          "output_type": "stream",
          "name": "stdout",
          "text": [
            "searching.....\n",
            "aaa 1\n",
            "aab 2\n",
            "aac 3\n",
            "aad 4\n",
            "aae 5\n",
            "aaf 6\n",
            "aag 7\n",
            "aah 8\n",
            "aai 9\n",
            "aaj 10\n",
            "aak 11\n",
            "aal 12\n",
            "aam 13\n",
            "aan 14\n",
            "aao 15\n",
            "aap 16\n",
            "aaq 17\n",
            "aar 18\n",
            "aas 19\n",
            "aat 20\n",
            "aau 21\n",
            "aav 22\n",
            "aaw 23\n",
            "aax 24\n",
            "aay 25\n",
            "aaz 26\n",
            "aba 27\n",
            "abb 28\n",
            "the password abc was cracked in 29 guesses\n",
            "-0.02 s\n"
          ]
        }
      ]
    },
    {
      "cell_type": "code",
      "source": [
        "!mkdir aa"
      ],
      "metadata": {
        "id": "EoDZpKiWwh8U"
      },
      "execution_count": null,
      "outputs": []
    },
    {
      "cell_type": "markdown",
      "source": [
        " ## **Image Downloader** **bold text**"
      ],
      "metadata": {
        "id": "3wO6QFV2PSqN"
      }
    },
    {
      "cell_type": "code",
      "source": [
        "import os\n",
        "import requests\n",
        "\n",
        "def get_extension(image_url:str) -> str | None:\n",
        "  extension: list[str] = ['.png', '.jpeg', '.jpg', 'gif', '.svg']\n",
        "  for ext in extension:\n",
        "    if ext in image_url:\n",
        "      return ext\n",
        "  return None\n",
        "\n",
        "def download_image(image_url:str, name: str, folder: str=None):\n",
        "  if ext := get_extension(image_url):\n",
        "    if folder:\n",
        "      image_name: str = f'{folder}/{name}{ext}'\n",
        "    else:\n",
        "      image_name: str = f'{name}{ext}'\n",
        "  else:\n",
        "    raise Exception('Image extension not found.')\n",
        "  if os.path.isfile(image_name):\n",
        "    raise Exception('image already exist')\n",
        "  try:\n",
        "    image_content:bytes= requests.get(image_url).content\n",
        "    with open(image_name, 'wb') as handler:\n",
        "      handler.write(image_content)\n",
        "      print(f'Image {image_name} downloaded!')\n",
        "  except Exception as e:\n",
        "    print(f'error {e}')\n",
        "\n",
        "\n",
        "def main():\n",
        "  input_url = input('Enter the url:')\n",
        "  input_name = input('What would you like to name it?')\n",
        "  print('Downloading.......')\n",
        "  download_image(input_url,input_name,'images')\n",
        "\n",
        "main()"
      ],
      "metadata": {
        "colab": {
          "base_uri": "https://localhost:8080/"
        },
        "id": "7V1QekIUPiE7",
        "outputId": "769e1bff-f799-4ab9-b089-39621304d641"
      },
      "execution_count": null,
      "outputs": [
        {
          "output_type": "stream",
          "name": "stdout",
          "text": [
            "Enter the url:https://media.istockphoto.com/id/2147562429/es/foto/vista-a%C3%A9rea-de-la-estatua-de-la-libertad-y-el-horizonte-de-la-ciudad.jpg?s=1024x1024&w=is&k=20&c=eFoyqAfImvufztIEUHES0eWPN0YmwcoH-ySZo7r73_8=\n",
            "What would you like to name it?bbb\n",
            "Downloading.......\n",
            "Image images/bbb.jpg downloaded!\n"
          ]
        }
      ]
    },
    {
      "cell_type": "markdown",
      "source": [
        " ## **File sorter**"
      ],
      "metadata": {
        "id": "K-1k6b22U_el"
      }
    },
    {
      "cell_type": "code",
      "source": [
        "import os\n",
        "import shutil\n",
        "\n",
        "def create_folder(path:str, extension: str) -> str:\n",
        "  \"\"\" creates a folder that is named after the extension of the file passed in\"\"\"\n",
        "  folder_name: str = extension[1:]\n",
        "  folder_path: str = os.path.join(path, folder_name)\n",
        "  if not os.path.exists(folder_path):\n",
        "    os.makedirs(folder_path)\n",
        "  return folder_path\n",
        "\n",
        "def sort_files(source_path: str):\n",
        "  \"\"\"sorts files based on a given path \"\"\"\n",
        "  for root_dir, sub_dir, filenames in os.walk(source_path):\n",
        "    for filename in filenames:\n",
        "      file_path: str = os.path.join(root_dir,filename)\n",
        "      extension: str = os.path.splitext(filename)[1]\n",
        "      if extension:\n",
        "        target_folder: str = create_folder(source_path, extension)\n",
        "        target_path: str = os.path.join(target_folder, filename)\n",
        "        shutil.move(file_path,target_path)\n",
        "\n",
        "def remove_empty_folder(source_path: str):\n",
        "  \"\"\" removes all empty folder\"\"\"\n",
        "  for root_dir, sub_dir, filenames in os.walk(source_path, topdown=False):\n",
        "    for current_dir in sub_dir:\n",
        "      folder_path: str = os.path.join(root_dir,current_dir)\n",
        "      if not os.listdir(folder_path):\n",
        "        os.rmdir(folder_path)\n",
        "\n",
        "\n",
        "def main():\n",
        "\n",
        "  user_input: str = input(\"Please provide a file path to sort: \")\n",
        "  if os.path.exists(path=user_input):\n",
        "    sort_files(user_input)\n",
        "    remove_empty_folder(user_input)\n",
        "    print('Files sorted successfully')\n",
        "  else:\n",
        "    print('Invalid path')\n",
        "\n",
        "\n",
        "\n",
        "main()\n"
      ],
      "metadata": {
        "colab": {
          "base_uri": "https://localhost:8080/"
        },
        "id": "c6hmj965VA1A",
        "outputId": "973df109-d336-4db1-f6ad-afe83ce8a8cf"
      },
      "execution_count": null,
      "outputs": [
        {
          "output_type": "stream",
          "name": "stdout",
          "text": [
            "Please provide a file path to sort: sample_data\n",
            "Files sorted successfully\n"
          ]
        }
      ]
    },
    {
      "cell_type": "markdown",
      "source": [
        " ## **Sentiment Analysis Bot**"
      ],
      "metadata": {
        "id": "5eYfr8TQzn-d"
      }
    },
    {
      "cell_type": "code",
      "source": [
        "! pip install textblob"
      ],
      "metadata": {
        "colab": {
          "base_uri": "https://localhost:8080/"
        },
        "id": "4NOmnIkGzwx0",
        "outputId": "94604903-9dd5-4daa-cb6a-401cd264bc11"
      },
      "execution_count": null,
      "outputs": [
        {
          "output_type": "stream",
          "name": "stdout",
          "text": [
            "Requirement already satisfied: textblob in /usr/local/lib/python3.10/dist-packages (0.17.1)\n",
            "Requirement already satisfied: nltk>=3.1 in /usr/local/lib/python3.10/dist-packages (from textblob) (3.8.1)\n",
            "Requirement already satisfied: click in /usr/local/lib/python3.10/dist-packages (from nltk>=3.1->textblob) (8.1.7)\n",
            "Requirement already satisfied: joblib in /usr/local/lib/python3.10/dist-packages (from nltk>=3.1->textblob) (1.4.2)\n",
            "Requirement already satisfied: regex>=2021.8.3 in /usr/local/lib/python3.10/dist-packages (from nltk>=3.1->textblob) (2024.9.11)\n",
            "Requirement already satisfied: tqdm in /usr/local/lib/python3.10/dist-packages (from nltk>=3.1->textblob) (4.66.5)\n"
          ]
        }
      ]
    },
    {
      "cell_type": "code",
      "source": [
        "from textblob import TextBlob\n",
        "from dataclasses import dataclass\n",
        "\n",
        "@dataclass\n",
        "class Mood:\n",
        "  emoji:str\n",
        "  sentiment:float\n",
        "\n",
        "def get_mood(input_text:str, *, sensitivity:float)-> Mood :\n",
        "  polarity:float = TextBlob(input_text).sentiment.polarity\n",
        "  friendly_treshold: float = sensitivity\n",
        "  hostile_treshold: float = -sensitivity\n",
        "  if polarity >= friendly_treshold:\n",
        "    return Mood(':)', polarity)\n",
        "  elif polarity <= hostile_treshold:\n",
        "    return Mood(':(', polarity)\n",
        "  else:\n",
        "    return Mood(':|', polarity)\n",
        "\n",
        "def main():\n",
        "  print('Enter some text to get a sentiment analysis back:')\n",
        "  while(True):\n",
        "    user_input: str = input('You:')\n",
        "    mood: Mood = get_mood(user_input,sensitivity=0.3)\n",
        "    print(f'Bot: {mood.emoji} ({mood.sentiment})')\n",
        "\n",
        "main()"
      ],
      "metadata": {
        "colab": {
          "base_uri": "https://localhost:8080/",
          "height": 382
        },
        "id": "EvoO4xCe0Lqj",
        "outputId": "55a82bf4-f61c-4025-9c51-bf0d2e73938a"
      },
      "execution_count": 1,
      "outputs": [
        {
          "output_type": "stream",
          "name": "stdout",
          "text": [
            "Enter some text to get a sentiment analysis back:\n",
            "You:hello\n",
            "Bot: :| (0.0)\n"
          ]
        },
        {
          "output_type": "error",
          "ename": "KeyboardInterrupt",
          "evalue": "Interrupted by user",
          "traceback": [
            "\u001b[0;31m---------------------------------------------------------------------------\u001b[0m",
            "\u001b[0;31mKeyboardInterrupt\u001b[0m                         Traceback (most recent call last)",
            "\u001b[0;32m<ipython-input-1-523ce49856f5>\u001b[0m in \u001b[0;36m<cell line: 27>\u001b[0;34m()\u001b[0m\n\u001b[1;32m     25\u001b[0m     \u001b[0mprint\u001b[0m\u001b[0;34m(\u001b[0m\u001b[0;34mf'Bot: {mood.emoji} ({mood.sentiment})'\u001b[0m\u001b[0;34m)\u001b[0m\u001b[0;34m\u001b[0m\u001b[0;34m\u001b[0m\u001b[0m\n\u001b[1;32m     26\u001b[0m \u001b[0;34m\u001b[0m\u001b[0m\n\u001b[0;32m---> 27\u001b[0;31m \u001b[0mmain\u001b[0m\u001b[0;34m(\u001b[0m\u001b[0;34m)\u001b[0m\u001b[0;34m\u001b[0m\u001b[0;34m\u001b[0m\u001b[0m\n\u001b[0m",
            "\u001b[0;32m<ipython-input-1-523ce49856f5>\u001b[0m in \u001b[0;36mmain\u001b[0;34m()\u001b[0m\n\u001b[1;32m     21\u001b[0m   \u001b[0mprint\u001b[0m\u001b[0;34m(\u001b[0m\u001b[0;34m'Enter some text to get a sentiment analysis back:'\u001b[0m\u001b[0;34m)\u001b[0m\u001b[0;34m\u001b[0m\u001b[0;34m\u001b[0m\u001b[0m\n\u001b[1;32m     22\u001b[0m   \u001b[0;32mwhile\u001b[0m\u001b[0;34m(\u001b[0m\u001b[0;32mTrue\u001b[0m\u001b[0;34m)\u001b[0m\u001b[0;34m:\u001b[0m\u001b[0;34m\u001b[0m\u001b[0;34m\u001b[0m\u001b[0m\n\u001b[0;32m---> 23\u001b[0;31m     \u001b[0muser_input\u001b[0m\u001b[0;34m:\u001b[0m \u001b[0mstr\u001b[0m \u001b[0;34m=\u001b[0m \u001b[0minput\u001b[0m\u001b[0;34m(\u001b[0m\u001b[0;34m'You:'\u001b[0m\u001b[0;34m)\u001b[0m\u001b[0;34m\u001b[0m\u001b[0;34m\u001b[0m\u001b[0m\n\u001b[0m\u001b[1;32m     24\u001b[0m     \u001b[0mmood\u001b[0m\u001b[0;34m:\u001b[0m \u001b[0mMood\u001b[0m \u001b[0;34m=\u001b[0m \u001b[0mget_mood\u001b[0m\u001b[0;34m(\u001b[0m\u001b[0muser_input\u001b[0m\u001b[0;34m,\u001b[0m\u001b[0msensitivity\u001b[0m\u001b[0;34m=\u001b[0m\u001b[0;36m0.3\u001b[0m\u001b[0;34m)\u001b[0m\u001b[0;34m\u001b[0m\u001b[0;34m\u001b[0m\u001b[0m\n\u001b[1;32m     25\u001b[0m     \u001b[0mprint\u001b[0m\u001b[0;34m(\u001b[0m\u001b[0;34mf'Bot: {mood.emoji} ({mood.sentiment})'\u001b[0m\u001b[0;34m)\u001b[0m\u001b[0;34m\u001b[0m\u001b[0;34m\u001b[0m\u001b[0m\n",
            "\u001b[0;32m/usr/local/lib/python3.10/dist-packages/ipykernel/kernelbase.py\u001b[0m in \u001b[0;36mraw_input\u001b[0;34m(self, prompt)\u001b[0m\n\u001b[1;32m    849\u001b[0m                 \u001b[0;34m\"raw_input was called, but this frontend does not support input requests.\"\u001b[0m\u001b[0;34m\u001b[0m\u001b[0;34m\u001b[0m\u001b[0m\n\u001b[1;32m    850\u001b[0m             )\n\u001b[0;32m--> 851\u001b[0;31m         return self._input_request(str(prompt),\n\u001b[0m\u001b[1;32m    852\u001b[0m             \u001b[0mself\u001b[0m\u001b[0;34m.\u001b[0m\u001b[0m_parent_ident\u001b[0m\u001b[0;34m,\u001b[0m\u001b[0;34m\u001b[0m\u001b[0;34m\u001b[0m\u001b[0m\n\u001b[1;32m    853\u001b[0m             \u001b[0mself\u001b[0m\u001b[0;34m.\u001b[0m\u001b[0m_parent_header\u001b[0m\u001b[0;34m,\u001b[0m\u001b[0;34m\u001b[0m\u001b[0;34m\u001b[0m\u001b[0m\n",
            "\u001b[0;32m/usr/local/lib/python3.10/dist-packages/ipykernel/kernelbase.py\u001b[0m in \u001b[0;36m_input_request\u001b[0;34m(self, prompt, ident, parent, password)\u001b[0m\n\u001b[1;32m    893\u001b[0m             \u001b[0;32mexcept\u001b[0m \u001b[0mKeyboardInterrupt\u001b[0m\u001b[0;34m:\u001b[0m\u001b[0;34m\u001b[0m\u001b[0;34m\u001b[0m\u001b[0m\n\u001b[1;32m    894\u001b[0m                 \u001b[0;31m# re-raise KeyboardInterrupt, to truncate traceback\u001b[0m\u001b[0;34m\u001b[0m\u001b[0;34m\u001b[0m\u001b[0m\n\u001b[0;32m--> 895\u001b[0;31m                 \u001b[0;32mraise\u001b[0m \u001b[0mKeyboardInterrupt\u001b[0m\u001b[0;34m(\u001b[0m\u001b[0;34m\"Interrupted by user\"\u001b[0m\u001b[0;34m)\u001b[0m \u001b[0;32mfrom\u001b[0m \u001b[0;32mNone\u001b[0m\u001b[0;34m\u001b[0m\u001b[0;34m\u001b[0m\u001b[0m\n\u001b[0m\u001b[1;32m    896\u001b[0m             \u001b[0;32mexcept\u001b[0m \u001b[0mException\u001b[0m \u001b[0;32mas\u001b[0m \u001b[0me\u001b[0m\u001b[0;34m:\u001b[0m\u001b[0;34m\u001b[0m\u001b[0;34m\u001b[0m\u001b[0m\n\u001b[1;32m    897\u001b[0m                 \u001b[0mself\u001b[0m\u001b[0;34m.\u001b[0m\u001b[0mlog\u001b[0m\u001b[0;34m.\u001b[0m\u001b[0mwarning\u001b[0m\u001b[0;34m(\u001b[0m\u001b[0;34m\"Invalid Message:\"\u001b[0m\u001b[0;34m,\u001b[0m \u001b[0mexc_info\u001b[0m\u001b[0;34m=\u001b[0m\u001b[0;32mTrue\u001b[0m\u001b[0;34m)\u001b[0m\u001b[0;34m\u001b[0m\u001b[0;34m\u001b[0m\u001b[0m\n",
            "\u001b[0;31mKeyboardInterrupt\u001b[0m: Interrupted by user"
          ]
        }
      ]
    },
    {
      "cell_type": "markdown",
      "source": [
        "## **PDF Reader**\n",
        "\n",
        "https://github.com/Arshad221b/RAG-on-PDF/blob/main/meidtations.pdf"
      ],
      "metadata": {
        "id": "wyE_4iBXKs3k"
      }
    },
    {
      "cell_type": "code",
      "source": [
        "! pip install pypdf2"
      ],
      "metadata": {
        "colab": {
          "base_uri": "https://localhost:8080/"
        },
        "id": "TZspOKS7K1Pw",
        "outputId": "198625d0-2069-4096-bb24-ced684360c12"
      },
      "execution_count": 2,
      "outputs": [
        {
          "output_type": "stream",
          "name": "stdout",
          "text": [
            "Collecting pypdf2\n",
            "  Downloading pypdf2-3.0.1-py3-none-any.whl.metadata (6.8 kB)\n",
            "Downloading pypdf2-3.0.1-py3-none-any.whl (232 kB)\n",
            "\u001b[2K   \u001b[90m━━━━━━━━━━━━━━━━━━━━━━━━━━━━━━━━━━━━━━━━\u001b[0m \u001b[32m232.6/232.6 kB\u001b[0m \u001b[31m3.6 MB/s\u001b[0m eta \u001b[36m0:00:00\u001b[0m\n",
            "\u001b[?25hInstalling collected packages: pypdf2\n",
            "Successfully installed pypdf2-3.0.1\n"
          ]
        }
      ]
    },
    {
      "cell_type": "code",
      "source": [
        "from typing import Counter\n",
        "import re\n",
        "from collections import Counter\n",
        "from PyPDF2 import PdfReader\n",
        "\n",
        "def extract_text_from_pdf(pdf_file:str) -> list[str]:\n",
        "  with open(pdf_file, 'rb')as pdf:\n",
        "    reader = PdfReader(pdf,strict=False)\n",
        "    print('Pages: ', len(reader.pages))\n",
        "    print('-'*10)\n",
        "    pdf_text: list[str] = [page.extract_text() for page in reader.pages]\n",
        "    return pdf_text\n",
        "\n",
        "def count_words(text_list:list[str]) -> Counter:\n",
        "  all_words: list[str] = []\n",
        "  for text in text_list:\n",
        "    split_text: list[str] = re.split(r'\\s+|[,;?!.-]\\s*', text.lower())\n",
        "    all_words = [word for word in split_text if word] # empty string is False\n",
        "    return Counter(all_words)\n",
        "\n",
        "def main():\n",
        "  extract_text:list[str] = extract_text_from_pdf('meidtations.pdf')\n",
        "  #for page in extract_text:\n",
        "  print(extract_text[0])\n",
        "  print(extract_text[1])\n",
        "  counter: Counter = count_words(text_list=extract_text)\n",
        "  for word, mentions in counter.most_common(10):\n",
        "    print(f'{word:10}: {mentions}')\n",
        "\n",
        "main()"
      ],
      "metadata": {
        "colab": {
          "base_uri": "https://localhost:8080/"
        },
        "id": "ZSvte31jLMom",
        "outputId": "94a6dbd2-2266-4c3a-c02d-d748f03dc9d2"
      },
      "execution_count": 7,
      "outputs": [
        {
          "output_type": "stream",
          "name": "stdout",
          "text": [
            "Pages:  128\n",
            "----------\n",
            " \n",
            "Marcus Aurelius' Meditations - tr. Casaubon v. 8.16, uploaded to www.philaletheians.co.uk, 14 July 2013 Page 1 of 128 The meditations of Marcus Aurelius Antoninus Originally translated by Meric Casaubon \n",
            " About this edition Marcus Aurelius Antoninus Augustus was Emperor of Rome from 161 to his death, the last of the “Five Good Emperors.” He was nephew, son-in-law, and adoptive son of Antonius Pius. Marcus Aurelius was one of the most important Stoic philosophers, cited by H.P. Blavatsky amongst famous classic sages and writers such as Plato, Eu-ripides, Socrates, Aristophanes, Pindar, Plutarch, Isocrates, Diodorus, Cicero, and Epictetus.1 This edition was originally translated out of the Greek by Meric Casaubon in 1634 as “The Golden Book of Marcus Aurelius,” with an Introduction by W.H.D. Rouse. It was subsequently edited by Ernest Rhys. London: J.M. Dent & Co; New York: E.P. Dutton & Co, 1906; Everyman’s Library.                                             1 Cf. Blavatsky Collected Writings, (THE ORIGIN OF THE MYSTERIES) XIV p. 257 \n",
            "\n",
            "LIVING THE LIFE SERIES MEDITATIONS OF MARCUS AURELIUS \n",
            "Marcus Aurelius' Meditations - tr. Casaubon v. 8.16, uploaded to www.philaletheians.co.uk, 14 July 2013 Page 2 of 128     Chief English translations of Marcus Aurelius Meric Casaubon, 1634; Jeremy Collier, 1701; James Thomson, 1747; R. Graves, 1792; H. McCormac, 1844; George Long, 1862; G.H. Rendall, 1898; and J. Jackson, 1906. Renan’s “Marc-Aurèle” — in his “History of the Origins of Christianity,” which ap-peared in 1882 — is the most vital and original book to be had relating to the time of Marcus Aurelius. Pater’s “Marius the Epicurean” forms another outside commentary, which is of service in the imaginative attempt to create again the period.2  Contents Introduction 3 THE FIRST BOOK 12 THE SECOND BOOK 19 THE THIRD BOOK 23 THE FOURTH BOOK 29 THE FIFTH BOOK 38 THE SIXTH BOOK 47 THE SEVENTH BOOK 57 THE EIGHTH BOOK 67 THE NINTH BOOK 77 THE TENTH BOOK 86 THE ELEVENTH BOOK 96 THE TWELFTH BOOK 104 Appendix 110 Notes 122 Glossary 123 A parting thought 128                                              2 [Brought forward from p. xxiii.] \n",
            "of        : 9\n",
            "the       : 6\n",
            "marcus    : 5\n",
            "by        : 5\n",
            "was       : 5\n",
            "aurelius  : 4\n",
            "casaubon  : 3\n",
            "co        : 3\n",
            "1         : 3\n",
            "and       : 3\n"
          ]
        }
      ]
    },
    {
      "cell_type": "markdown",
      "source": [],
      "metadata": {
        "id": "Wsy9eqSJTenx"
      }
    }
  ]
}